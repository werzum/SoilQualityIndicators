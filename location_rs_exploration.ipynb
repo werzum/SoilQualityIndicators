{
 "cells": [
  {
   "cell_type": "markdown",
   "metadata": {},
   "source": [
    "#### Setup"
   ]
  },
  {
   "cell_type": "code",
   "execution_count": 4,
   "metadata": {},
   "outputs": [],
   "source": [
    "import datetime\n",
    "import os\n",
    "\n",
    "import matplotlib.pyplot as plt\n",
    "import numpy as np\n",
    "\n",
    "from sentinelhub import (\n",
    "    CRS,\n",
    "    BBox,\n",
    "    DataCollection,\n",
    "    DownloadRequest,\n",
    "    MimeType,\n",
    "    MosaickingOrder,\n",
    "    SentinelHubDownloadClient,\n",
    "    SentinelHubRequest,\n",
    "    bbox_to_dimensions,\n",
    ")\n",
    "\n",
    "import pandas as pd"
   ]
  },
  {
   "cell_type": "markdown",
   "metadata": {},
   "source": [
    "#### Loading the Data"
   ]
  },
  {
   "cell_type": "code",
   "execution_count": 2,
   "metadata": {},
   "outputs": [
    {
     "name": "stdout",
     "output_type": "stream",
     "text": [
      "Image shape at 60 m resolution: (4, 3) pixels\n"
     ]
    }
   ],
   "source": [
    "absdorf_bbox_coords = [15.969363,48.405107,15.972641,48.406845]\n",
    "au_am_leitha_1_bbox_coords = [16.529000,47.930621,16.533941,47.932141]\n",
    "resolution = 60\n",
    "absdorf_bbox = BBox(bbox=absdorf_bbox_coords, crs=CRS.WGS84)\n",
    "absdorf_bbox_size = bbox_to_dimensions(absdorf_bbox, resolution=resolution)\n",
    "\n",
    "print(f\"Image shape at {resolution} m resolution: {absdorf_bbox_size} pixels\")"
   ]
  },
  {
   "cell_type": "code",
   "execution_count": 6,
   "metadata": {},
   "outputs": [],
   "source": [
    "with open(\"Datasets/bestand_31_10_22.csv\") as file:\n",
    "        bestand = pd.read_csv(file)"
   ]
  },
  {
   "cell_type": "code",
   "execution_count": 10,
   "metadata": {},
   "outputs": [],
   "source": [
    "# Add the coords to the df (with weird string workaround since lists dont go into cells with loc)\n",
    "bestand.loc[bestand['SITE'] == \"Abs\", 'BoundingBox'] =  f\"{absdorf_bbox_coords}\"\n",
    "bestand.loc[bestand['SITE'] == \"Au1\", 'BoundingBox'] =  f\"{au_am_leitha_1_bbox_coords}\""
   ]
  },
  {
   "cell_type": "code",
   "execution_count": 12,
   "metadata": {},
   "outputs": [],
   "source": [
    "# update the file\n",
    "bestand.to_csv(\"Datasets/bestand_31_10_22.csv\")"
   ]
  },
  {
   "cell_type": "markdown",
   "metadata": {},
   "source": [
    "#### Retrieving the satellite data"
   ]
  },
  {
   "cell_type": "code",
   "execution_count": null,
   "metadata": {},
   "outputs": [],
   "source": []
  }
 ],
 "metadata": {
  "kernelspec": {
   "display_name": "ai_soil_kernel",
   "language": "python",
   "name": "ai_soil_kernel"
  },
  "language_info": {
   "codemirror_mode": {
    "name": "ipython",
    "version": 3
   },
   "file_extension": ".py",
   "mimetype": "text/x-python",
   "name": "python",
   "nbconvert_exporter": "python",
   "pygments_lexer": "ipython3",
   "version": "3.10.7"
  },
  "orig_nbformat": 4,
  "vscode": {
   "interpreter": {
    "hash": "7b3ff24fa4024c4cb615f1ff00507892174b2f550ec7347cbefbda6fbe613db0"
   }
  }
 },
 "nbformat": 4,
 "nbformat_minor": 2
}
