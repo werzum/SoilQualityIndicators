{
 "cells": [
  {
   "cell_type": "code",
   "execution_count": 18,
   "metadata": {},
   "outputs": [],
   "source": [
    "import pandas as pd\n",
    "import numpy as np"
   ]
  },
  {
   "cell_type": "code",
   "execution_count": 28,
   "metadata": {},
   "outputs": [],
   "source": [
    "from pandas.api.types import is_string_dtype\n",
    "\n",
    "with open(\"sample_dataset.csv\") as file:\n",
    "        bestand = pd.read_csv(file,sep=\",\",dtype=str)\n",
    "\n",
    "# format the headers\n",
    "bestand.columns = bestand.iloc[0]\n",
    "bestand = bestand.drop(bestand.index[0])\n",
    "\n",
    "for column in  [\"Silt\",\"Clay\",\"Sand\"]:\n",
    "        if is_string_dtype(bestand[column]):\n",
    "                bestand[column] = bestand[column].astype(float)\n",
    "        bestand[column] = pd.to_numeric(bestand[column])\n",
    "\n",
    "# create a dict with a df for each site - does that make sense?\n",
    "unique_site_names = bestand[\"SITE\"].unique()\n",
    "df_dict = {}\n",
    "for name in unique_site_names:\n",
    "    temp_df = pd.DataFrame(bestand[bestand[\"SITE\"] == name])\n",
    "    df_dict[name] = temp_df"
   ]
  },
  {
   "cell_type": "code",
   "execution_count": 29,
   "metadata": {},
   "outputs": [
    {
     "data": {
      "text/html": [
       "<div>\n",
       "<style scoped>\n",
       "    .dataframe tbody tr th:only-of-type {\n",
       "        vertical-align: middle;\n",
       "    }\n",
       "\n",
       "    .dataframe tbody tr th {\n",
       "        vertical-align: top;\n",
       "    }\n",
       "\n",
       "    .dataframe thead th {\n",
       "        text-align: right;\n",
       "    }\n",
       "</style>\n",
       "<table border=\"1\" class=\"dataframe\">\n",
       "  <thead>\n",
       "    <tr style=\"text-align: right;\">\n",
       "      <th></th>\n",
       "      <th>SITE</th>\n",
       "      <th>SYSTEM</th>\n",
       "      <th>DEPT</th>\n",
       "      <th>Clay</th>\n",
       "      <th>Silt</th>\n",
       "      <th>Sand</th>\n",
       "      <th>pH</th>\n",
       "      <th>Aggregate Stability</th>\n",
       "      <th>Bulk Density</th>\n",
       "      <th>Corg_Clay</th>\n",
       "      <th>...</th>\n",
       "      <th>Manosamine</th>\n",
       "      <th>Muramic Acid</th>\n",
       "      <th>Glucosamine</th>\n",
       "      <th>Sum Aminosugars</th>\n",
       "      <th>LAP</th>\n",
       "      <th>NAG</th>\n",
       "      <th>GLU</th>\n",
       "      <th>XYL</th>\n",
       "      <th>CEL</th>\n",
       "      <th>PHO</th>\n",
       "    </tr>\n",
       "  </thead>\n",
       "  <tbody>\n",
       "    <tr>\n",
       "      <th>4</th>\n",
       "      <td>Au1</td>\n",
       "      <td>Pioneer</td>\n",
       "      <td>5</td>\n",
       "      <td>31.0134</td>\n",
       "      <td>27.9172</td>\n",
       "      <td>41.0694</td>\n",
       "      <td>7.773</td>\n",
       "      <td>0.647727272727271</td>\n",
       "      <td>1.29</td>\n",
       "      <td>0.114922904292983</td>\n",
       "      <td>...</td>\n",
       "      <td>0.131496341995654</td>\n",
       "      <td>2.65388122494279</td>\n",
       "      <td>0.786299502463911</td>\n",
       "      <td>4.96481717791973</td>\n",
       "      <td>299.694028193539</td>\n",
       "      <td>51.5049889011727</td>\n",
       "      <td>547.153640168481</td>\n",
       "      <td>158.951397745838</td>\n",
       "      <td>66.1697665030259</td>\n",
       "      <td>400.180764762632</td>\n",
       "    </tr>\n",
       "    <tr>\n",
       "      <th>5</th>\n",
       "      <td>Au1</td>\n",
       "      <td>Reference</td>\n",
       "      <td>5</td>\n",
       "      <td>12.6872</td>\n",
       "      <td>22.3210</td>\n",
       "      <td>64.9918</td>\n",
       "      <td>7.18</td>\n",
       "      <td>0.922558922558923</td>\n",
       "      <td>1.17</td>\n",
       "      <td>0.453448357399584</td>\n",
       "      <td>...</td>\n",
       "      <td>0.107116035569389</td>\n",
       "      <td>4.33376977924257</td>\n",
       "      <td>1.19262296017611</td>\n",
       "      <td>7.73703122912375</td>\n",
       "      <td>375.599394346831</td>\n",
       "      <td>73.8497720453037</td>\n",
       "      <td>603.421035317439</td>\n",
       "      <td>146.426445572033</td>\n",
       "      <td>85.7833642313387</td>\n",
       "      <td>441.725044060526</td>\n",
       "    </tr>\n",
       "    <tr>\n",
       "      <th>6</th>\n",
       "      <td>Au1</td>\n",
       "      <td>Standard</td>\n",
       "      <td>5</td>\n",
       "      <td>25.6417</td>\n",
       "      <td>24.9351</td>\n",
       "      <td>49.4232</td>\n",
       "      <td>7.955</td>\n",
       "      <td>0.980271810609382</td>\n",
       "      <td>1.51</td>\n",
       "      <td>0.152684104408054</td>\n",
       "      <td>...</td>\n",
       "      <td>0.0991162822995747</td>\n",
       "      <td>1.66392803327622</td>\n",
       "      <td>0.553362342996527</td>\n",
       "      <td>3.26804246144742</td>\n",
       "      <td>186.004186029196</td>\n",
       "      <td>34.4859364322166</td>\n",
       "      <td>473.446581626247</td>\n",
       "      <td>122.262405591672</td>\n",
       "      <td>48.8204317799376</td>\n",
       "      <td>285.605498064144</td>\n",
       "    </tr>\n",
       "    <tr>\n",
       "      <th>67</th>\n",
       "      <td>Au1</td>\n",
       "      <td>Pioneer</td>\n",
       "      <td>20</td>\n",
       "      <td>31.0134</td>\n",
       "      <td>27.9172</td>\n",
       "      <td>41.0694</td>\n",
       "      <td>7.858</td>\n",
       "      <td>0.656931464174455</td>\n",
       "      <td>1.29</td>\n",
       "      <td>0.118305313187203</td>\n",
       "      <td>...</td>\n",
       "      <td>0.119844835364293</td>\n",
       "      <td>1.91604790072504</td>\n",
       "      <td>0.902109474039613</td>\n",
       "      <td>4.34845302727178</td>\n",
       "      <td>159.43315528753</td>\n",
       "      <td>29.4434064564321</td>\n",
       "      <td>358.261511598114</td>\n",
       "      <td>92.9174813519371</td>\n",
       "      <td>38.6416422422617</td>\n",
       "      <td>375.642452597047</td>\n",
       "    </tr>\n",
       "    <tr>\n",
       "      <th>68</th>\n",
       "      <td>Au1</td>\n",
       "      <td>Reference</td>\n",
       "      <td>20</td>\n",
       "      <td>12.6872</td>\n",
       "      <td>22.3210</td>\n",
       "      <td>64.9918</td>\n",
       "      <td>7.044</td>\n",
       "      <td>0.859906604402937</td>\n",
       "      <td>1.17</td>\n",
       "      <td>0.364674632700675</td>\n",
       "      <td>...</td>\n",
       "      <td>0.0532219289529033</td>\n",
       "      <td>2.36594421850899</td>\n",
       "      <td>0.943659919076451</td>\n",
       "      <td>4.76105205709943</td>\n",
       "      <td>188.924183837273</td>\n",
       "      <td>31.9761941023521</td>\n",
       "      <td>256.033897669445</td>\n",
       "      <td>40.3912132462918</td>\n",
       "      <td>22.3703452440865</td>\n",
       "      <td>323.937951480996</td>\n",
       "    </tr>\n",
       "    <tr>\n",
       "      <th>69</th>\n",
       "      <td>Au1</td>\n",
       "      <td>Standard</td>\n",
       "      <td>20</td>\n",
       "      <td>25.6417</td>\n",
       "      <td>24.9351</td>\n",
       "      <td>49.4232</td>\n",
       "      <td>7.948</td>\n",
       "      <td>0.531558608844998</td>\n",
       "      <td>1.51</td>\n",
       "      <td>0.120245927532106</td>\n",
       "      <td>...</td>\n",
       "      <td>0.0544933591721425</td>\n",
       "      <td>0.887243791884208</td>\n",
       "      <td>0.434170177820104</td>\n",
       "      <td>2.0222730286944</td>\n",
       "      <td>149.307718264804</td>\n",
       "      <td>24.5640134455327</td>\n",
       "      <td>254.602473620145</td>\n",
       "      <td>47.7604058294424</td>\n",
       "      <td>23.0953940320674</td>\n",
       "      <td>287.485787134702</td>\n",
       "    </tr>\n",
       "    <tr>\n",
       "      <th>130</th>\n",
       "      <td>Au1</td>\n",
       "      <td>Pioneer</td>\n",
       "      <td>35</td>\n",
       "      <td>31.0134</td>\n",
       "      <td>27.9172</td>\n",
       "      <td>41.0694</td>\n",
       "      <td>7.911</td>\n",
       "      <td>0.63021420518602</td>\n",
       "      <td>1.29</td>\n",
       "      <td>0.0864561770073581</td>\n",
       "      <td>...</td>\n",
       "      <td>0</td>\n",
       "      <td>1.69132278243249</td>\n",
       "      <td>0.754954006076187</td>\n",
       "      <td>3.54280028850978</td>\n",
       "      <td>238.873477626457</td>\n",
       "      <td>60.6445589712759</td>\n",
       "      <td>428.796788979286</td>\n",
       "      <td>120.106415385911</td>\n",
       "      <td>66.8167090022174</td>\n",
       "      <td>471.442751166937</td>\n",
       "    </tr>\n",
       "    <tr>\n",
       "      <th>131</th>\n",
       "      <td>Au1</td>\n",
       "      <td>Reference</td>\n",
       "      <td>35</td>\n",
       "      <td>12.6872</td>\n",
       "      <td>22.3210</td>\n",
       "      <td>64.9918</td>\n",
       "      <td>7.107</td>\n",
       "      <td>0.753215434083602</td>\n",
       "      <td>1.17</td>\n",
       "      <td>0.30588151838073</td>\n",
       "      <td>...</td>\n",
       "      <td>0</td>\n",
       "      <td>1.88655756682566</td>\n",
       "      <td>0.66271513285158</td>\n",
       "      <td>3.47018907495266</td>\n",
       "      <td>307.446006834238</td>\n",
       "      <td>61.7568631799338</td>\n",
       "      <td>457.150035289387</td>\n",
       "      <td>76.0130936863337</td>\n",
       "      <td>48.6392241136044</td>\n",
       "      <td>408.354530795271</td>\n",
       "    </tr>\n",
       "    <tr>\n",
       "      <th>132</th>\n",
       "      <td>Au1</td>\n",
       "      <td>Standard</td>\n",
       "      <td>35</td>\n",
       "      <td>25.6417</td>\n",
       "      <td>24.9351</td>\n",
       "      <td>49.4232</td>\n",
       "      <td>7.996</td>\n",
       "      <td>0.551486428263677</td>\n",
       "      <td>1.51</td>\n",
       "      <td>0.175748097825027</td>\n",
       "      <td>...</td>\n",
       "      <td>0</td>\n",
       "      <td>0.985679602728068</td>\n",
       "      <td>0.404302937963685</td>\n",
       "      <td>1.99257514945827</td>\n",
       "      <td>204.614801317131</td>\n",
       "      <td>48.0558482429258</td>\n",
       "      <td>393.810293096968</td>\n",
       "      <td>83.6575362516277</td>\n",
       "      <td>34.5793120776948</td>\n",
       "      <td>379.040324203063</td>\n",
       "    </tr>\n",
       "  </tbody>\n",
       "</table>\n",
       "<p>9 rows × 27 columns</p>\n",
       "</div>"
      ],
      "text/plain": [
       "0   SITE     SYSTEM DEPT     Clay     Silt     Sand     pH  \\\n",
       "4    Au1    Pioneer    5  31.0134  27.9172  41.0694  7.773   \n",
       "5    Au1  Reference    5  12.6872  22.3210  64.9918   7.18   \n",
       "6    Au1   Standard    5  25.6417  24.9351  49.4232  7.955   \n",
       "67   Au1    Pioneer   20  31.0134  27.9172  41.0694  7.858   \n",
       "68   Au1  Reference   20  12.6872  22.3210  64.9918  7.044   \n",
       "69   Au1   Standard   20  25.6417  24.9351  49.4232  7.948   \n",
       "130  Au1    Pioneer   35  31.0134  27.9172  41.0694  7.911   \n",
       "131  Au1  Reference   35  12.6872  22.3210  64.9918  7.107   \n",
       "132  Au1   Standard   35  25.6417  24.9351  49.4232  7.996   \n",
       "\n",
       "0   Aggregate Stability Bulk Density           Corg_Clay  ...  \\\n",
       "4     0.647727272727271         1.29   0.114922904292983  ...   \n",
       "5     0.922558922558923         1.17   0.453448357399584  ...   \n",
       "6     0.980271810609382         1.51   0.152684104408054  ...   \n",
       "67    0.656931464174455         1.29   0.118305313187203  ...   \n",
       "68    0.859906604402937         1.17   0.364674632700675  ...   \n",
       "69    0.531558608844998         1.51   0.120245927532106  ...   \n",
       "130    0.63021420518602         1.29  0.0864561770073581  ...   \n",
       "131   0.753215434083602         1.17    0.30588151838073  ...   \n",
       "132   0.551486428263677         1.51   0.175748097825027  ...   \n",
       "\n",
       "0            Manosamine       Muramic Acid        Glucosamine  \\\n",
       "4     0.131496341995654   2.65388122494279  0.786299502463911   \n",
       "5     0.107116035569389   4.33376977924257   1.19262296017611   \n",
       "6    0.0991162822995747   1.66392803327622  0.553362342996527   \n",
       "67    0.119844835364293   1.91604790072504  0.902109474039613   \n",
       "68   0.0532219289529033   2.36594421850899  0.943659919076451   \n",
       "69   0.0544933591721425  0.887243791884208  0.434170177820104   \n",
       "130                   0   1.69132278243249  0.754954006076187   \n",
       "131                   0   1.88655756682566   0.66271513285158   \n",
       "132                   0  0.985679602728068  0.404302937963685   \n",
       "\n",
       "0     Sum Aminosugars               LAP               NAG               GLU  \\\n",
       "4    4.96481717791973  299.694028193539  51.5049889011727  547.153640168481   \n",
       "5    7.73703122912375  375.599394346831  73.8497720453037  603.421035317439   \n",
       "6    3.26804246144742  186.004186029196  34.4859364322166  473.446581626247   \n",
       "67   4.34845302727178   159.43315528753  29.4434064564321  358.261511598114   \n",
       "68   4.76105205709943  188.924183837273  31.9761941023521  256.033897669445   \n",
       "69    2.0222730286944  149.307718264804  24.5640134455327  254.602473620145   \n",
       "130  3.54280028850978  238.873477626457  60.6445589712759  428.796788979286   \n",
       "131  3.47018907495266  307.446006834238  61.7568631799338  457.150035289387   \n",
       "132  1.99257514945827  204.614801317131  48.0558482429258  393.810293096968   \n",
       "\n",
       "0                 XYL               CEL               PHO  \n",
       "4    158.951397745838  66.1697665030259  400.180764762632  \n",
       "5    146.426445572033  85.7833642313387  441.725044060526  \n",
       "6    122.262405591672  48.8204317799376  285.605498064144  \n",
       "67   92.9174813519371  38.6416422422617  375.642452597047  \n",
       "68   40.3912132462918  22.3703452440865  323.937951480996  \n",
       "69   47.7604058294424  23.0953940320674  287.485787134702  \n",
       "130  120.106415385911  66.8167090022174  471.442751166937  \n",
       "131  76.0130936863337  48.6392241136044  408.354530795271  \n",
       "132  83.6575362516277  34.5793120776948  379.040324203063  \n",
       "\n",
       "[9 rows x 27 columns]"
      ]
     },
     "execution_count": 29,
     "metadata": {},
     "output_type": "execute_result"
    }
   ],
   "source": [
    "df_dict[\"Au1\"]"
   ]
  },
  {
   "cell_type": "code",
   "execution_count": 30,
   "metadata": {},
   "outputs": [
    {
     "ename": "IndexingError",
     "evalue": "Too many indexers",
     "output_type": "error",
     "traceback": [
      "\u001b[0;31m---------------------------------------------------------------------------\u001b[0m",
      "\u001b[0;31mIndexingError\u001b[0m                             Traceback (most recent call last)",
      "\u001b[1;32m/home/carlo/GitHub/AISoilIndicator/data_exploration.ipynb Cell 4\u001b[0m in \u001b[0;36m<cell line: 1>\u001b[0;34m()\u001b[0m\n\u001b[0;32m----> <a href='vscode-notebook-cell:/home/carlo/GitHub/AISoilIndicator/data_exploration.ipynb#W4sZmlsZQ%3D%3D?line=0'>1</a>\u001b[0m au_1 \u001b[39m=\u001b[39m df_dict[\u001b[39m\"\u001b[39;49m\u001b[39mAu1\u001b[39;49m\u001b[39m\"\u001b[39;49m]\u001b[39m.\u001b[39;49mloc[\u001b[39m\"\u001b[39;49m\u001b[39mClay\u001b[39;49m\u001b[39m\"\u001b[39;49m,\u001b[39m\"\u001b[39;49m\u001b[39mSilt\u001b[39;49m\u001b[39m\"\u001b[39;49m,\u001b[39m\"\u001b[39;49m\u001b[39mSand\u001b[39;49m\u001b[39m\"\u001b[39;49m]\n\u001b[1;32m      <a href='vscode-notebook-cell:/home/carlo/GitHub/AISoilIndicator/data_exploration.ipynb#W4sZmlsZQ%3D%3D?line=1'>2</a>\u001b[0m au1_pioneer \u001b[39m=\u001b[39m au_1[au_1[\u001b[39m\"\u001b[39m\u001b[39mSYSTEM\u001b[39m\u001b[39m\"\u001b[39m] \u001b[39m==\u001b[39m \u001b[39m\"\u001b[39m\u001b[39mPioneer\u001b[39m\u001b[39m\"\u001b[39m]\u001b[39m.\u001b[39mto_numpy()\n\u001b[1;32m      <a href='vscode-notebook-cell:/home/carlo/GitHub/AISoilIndicator/data_exploration.ipynb#W4sZmlsZQ%3D%3D?line=2'>3</a>\u001b[0m time \u001b[39m=\u001b[39m np\u001b[39m.\u001b[39mlinspace(\u001b[39m0\u001b[39m,\u001b[39m1\u001b[39m,\u001b[39mlen\u001b[39m(au1_pioneer))\n",
      "File \u001b[0;32m~/GitHub/AISoilIndicator/ai_soil_env/lib/python3.10/site-packages/pandas/core/indexing.py:961\u001b[0m, in \u001b[0;36m_LocationIndexer.__getitem__\u001b[0;34m(self, key)\u001b[0m\n\u001b[1;32m    959\u001b[0m     \u001b[39mif\u001b[39;00m \u001b[39mself\u001b[39m\u001b[39m.\u001b[39m_is_scalar_access(key):\n\u001b[1;32m    960\u001b[0m         \u001b[39mreturn\u001b[39;00m \u001b[39mself\u001b[39m\u001b[39m.\u001b[39mobj\u001b[39m.\u001b[39m_get_value(\u001b[39m*\u001b[39mkey, takeable\u001b[39m=\u001b[39m\u001b[39mself\u001b[39m\u001b[39m.\u001b[39m_takeable)\n\u001b[0;32m--> 961\u001b[0m     \u001b[39mreturn\u001b[39;00m \u001b[39mself\u001b[39;49m\u001b[39m.\u001b[39;49m_getitem_tuple(key)\n\u001b[1;32m    962\u001b[0m \u001b[39melse\u001b[39;00m:\n\u001b[1;32m    963\u001b[0m     \u001b[39m# we by definition only have the 0th axis\u001b[39;00m\n\u001b[1;32m    964\u001b[0m     axis \u001b[39m=\u001b[39m \u001b[39mself\u001b[39m\u001b[39m.\u001b[39maxis \u001b[39mor\u001b[39;00m \u001b[39m0\u001b[39m\n",
      "File \u001b[0;32m~/GitHub/AISoilIndicator/ai_soil_env/lib/python3.10/site-packages/pandas/core/indexing.py:1143\u001b[0m, in \u001b[0;36m_LocIndexer._getitem_tuple\u001b[0;34m(self, tup)\u001b[0m\n\u001b[1;32m   1140\u001b[0m     \u001b[39mreturn\u001b[39;00m \u001b[39mself\u001b[39m\u001b[39m.\u001b[39m_getitem_lowerdim(tup)\n\u001b[1;32m   1142\u001b[0m \u001b[39m# no multi-index, so validate all of the indexers\u001b[39;00m\n\u001b[0;32m-> 1143\u001b[0m tup \u001b[39m=\u001b[39m \u001b[39mself\u001b[39;49m\u001b[39m.\u001b[39;49m_validate_tuple_indexer(tup)\n\u001b[1;32m   1145\u001b[0m \u001b[39m# ugly hack for GH #836\u001b[39;00m\n\u001b[1;32m   1146\u001b[0m \u001b[39mif\u001b[39;00m \u001b[39mself\u001b[39m\u001b[39m.\u001b[39m_multi_take_opportunity(tup):\n",
      "File \u001b[0;32m~/GitHub/AISoilIndicator/ai_soil_env/lib/python3.10/site-packages/pandas/core/indexing.py:765\u001b[0m, in \u001b[0;36m_LocationIndexer._validate_tuple_indexer\u001b[0;34m(self, key)\u001b[0m\n\u001b[1;32m    761\u001b[0m \u001b[39mdef\u001b[39;00m \u001b[39m_validate_tuple_indexer\u001b[39m(\u001b[39mself\u001b[39m, key: \u001b[39mtuple\u001b[39m) \u001b[39m-\u001b[39m\u001b[39m>\u001b[39m \u001b[39mtuple\u001b[39m:\n\u001b[1;32m    762\u001b[0m     \u001b[39m\"\"\"\u001b[39;00m\n\u001b[1;32m    763\u001b[0m \u001b[39m    Check the key for valid keys across my indexer.\u001b[39;00m\n\u001b[1;32m    764\u001b[0m \u001b[39m    \"\"\"\u001b[39;00m\n\u001b[0;32m--> 765\u001b[0m     key \u001b[39m=\u001b[39m \u001b[39mself\u001b[39;49m\u001b[39m.\u001b[39;49m_validate_key_length(key)\n\u001b[1;32m    766\u001b[0m     key \u001b[39m=\u001b[39m \u001b[39mself\u001b[39m\u001b[39m.\u001b[39m_expand_ellipsis(key)\n\u001b[1;32m    767\u001b[0m     \u001b[39mfor\u001b[39;00m i, k \u001b[39min\u001b[39;00m \u001b[39menumerate\u001b[39m(key):\n",
      "File \u001b[0;32m~/GitHub/AISoilIndicator/ai_soil_env/lib/python3.10/site-packages/pandas/core/indexing.py:812\u001b[0m, in \u001b[0;36m_LocationIndexer._validate_key_length\u001b[0;34m(self, key)\u001b[0m\n\u001b[1;32m    810\u001b[0m             \u001b[39mraise\u001b[39;00m IndexingError(_one_ellipsis_message)\n\u001b[1;32m    811\u001b[0m         \u001b[39mreturn\u001b[39;00m \u001b[39mself\u001b[39m\u001b[39m.\u001b[39m_validate_key_length(key)\n\u001b[0;32m--> 812\u001b[0m     \u001b[39mraise\u001b[39;00m IndexingError(\u001b[39m\"\u001b[39m\u001b[39mToo many indexers\u001b[39m\u001b[39m\"\u001b[39m)\n\u001b[1;32m    813\u001b[0m \u001b[39mreturn\u001b[39;00m key\n",
      "\u001b[0;31mIndexingError\u001b[0m: Too many indexers"
     ]
    }
   ],
   "source": [
    "au_1 = df_dict[\"Au1\"].loc[\"Clay\",\"Silt\",\"Sand\"]\n",
    "au1_pioneer = au_1[au_1[\"SYSTEM\"] == \"Pioneer\"].to_numpy()\n",
    "time = np.linspace(0,1,len(au1_pioneer))"
   ]
  },
  {
   "cell_type": "code",
   "execution_count": 31,
   "metadata": {},
   "outputs": [
    {
     "name": "stdout",
     "output_type": "stream",
     "text": [
      "Initializing...\n",
      "Compute Karcher Mean of 3 function in SRSF space...\n",
      "updating step: r=1\n",
      "updating step: r=2\n",
      "updating step: r=3\n"
     ]
    },
    {
     "data": {
      "image/png": "[encoded data removed]",
      "text/plain": [
       "<Figure size 640x480 with 1 Axes>"
      ]
     },
     "metadata": {},
     "output_type": "display_data"
    },
    {
     "data": {
      "image/png": "[encoded data removed]",
      "text/plain": [
       "<Figure size 640x480 with 1 Axes>"
      ]
     },
     "metadata": {},
     "output_type": "display_data"
    },
    {
     "data": {
      "image/png": "[encoded data removed]",
      "text/plain": [
       "<Figure size 640x480 with 1 Axes>"
      ]
     },
     "metadata": {},
     "output_type": "display_data"
    },
    {
     "data": {
      "image/png": "[encoded data removed]",
      "text/plain": [
       "<Figure size 640x480 with 1 Axes>"
      ]
     },
     "metadata": {},
     "output_type": "display_data"
    },
    {
     "data": {
      "image/png": "[encoded data removed]",
      "text/plain": [
       "<Figure size 640x480 with 1 Axes>"
      ]
     },
     "metadata": {},
     "output_type": "display_data"
    },
    {
     "data": {
      "image/png": "[encoded data removed]",
      "text/plain": [
       "<Figure size 640x480 with 1 Axes>"
      ]
     },
     "metadata": {},
     "output_type": "display_data"
    }
   ],
   "source": [
    "from fdasrsf import fPCA, time_warping, fdawarp, fdahpca\n",
    "\n",
    "au_1 = df_dict[\"Au1\"]\n",
    "au_1 = au_1[[\"Clay\",\"Silt\",\"Sand\"]]\n",
    "time = np.linspace(0,1,len(au_1))\n",
    "warp_f = time_warping.fdawarp(au_1.to_numpy(), time)\n",
    "warp_f.srsf_align()\n",
    "\n",
    "warp_f.plot()"
   ]
  },
  {
   "cell_type": "code",
   "execution_count": 32,
   "metadata": {},
   "outputs": [
    {
     "data": {
      "image/png": "[encoded data removed]",
      "text/plain": [
       "<Figure size 640x480 with 6 Axes>"
      ]
     },
     "metadata": {},
     "output_type": "display_data"
    },
    {
     "data": {
      "image/png": "[encoded data removed]",
      "text/plain": [
       "<Figure size 640x480 with 1 Axes>"
      ]
     },
     "metadata": {},
     "output_type": "display_data"
    },
    {
     "data": {
      "application/vnd.plotly.v1+json": {
       "config": {
        "plotlyServerURL": "https://plot.ly"
       },
       "data": [
        {
         "mode": "lines",
         "name": "PC1",
         "type": "scatter",
         "y": [
          11.579282348081161,
          44.602963585873376,
          40.46675821979018,
          48.92866559506793,
          46.5207197494733,
          38.85044143016056,
          47.906881041641185,
          51.91011708120071,
          48.40431473265181
         ]
        },
        {
         "mode": "lines",
         "name": "PC2",
         "type": "scatter",
         "y": [
          37.69102942566029,
          36.64986990692114,
          32.18080023544688,
          37.69324424807114,
          35.285298402476506,
          30.672602626974932,
          39.97224171714604,
          37.66039880076722,
          32.78507558509267
         ]
        },
        {
         "mode": "lines",
         "name": "PC3",
         "type": "scatter",
         "y": [
          33.33333330965165,
          33.735515090972605,
          30.18692186354244,
          37.79957823775384,
          35.39163239215921,
          31.026867550310822,
          39.87554505235954,
          37.795050148194804,
          33.33333329616309
         ]
        }
       ],
       "layout": {
        "template": {
         "data": {
          "bar": [
           {
            "error_x": {
             "color": "#2a3f5f"
            },
            "error_y": {
             "color": "#2a3f5f"
            },
            "marker": {
             "line": {
              "color": "#E5ECF6",
              "width": 0.5
             },
             "pattern": {
              "fillmode": "overlay",
              "size": 10,
              "solidity": 0.2
             }
            },
            "type": "bar"
           }
          ],
          "barpolar": [
           {
            "marker": {
             "line": {
              "color": "#E5ECF6",
              "width": 0.5
             },
             "pattern": {
              "fillmode": "overlay",
              "size": 10,
              "solidity": 0.2
             }
            },
            "type": "barpolar"
           }
          ],
          "carpet": [
           {
            "aaxis": {
             "endlinecolor": "#2a3f5f",
             "gridcolor": "white",
             "linecolor": "white",
             "minorgridcolor": "white",
             "startlinecolor": "#2a3f5f"
            },
            "baxis": {
             "endlinecolor": "#2a3f5f",
             "gridcolor": "white",
             "linecolor": "white",
             "minorgridcolor": "white",
             "startlinecolor": "#2a3f5f"
            },
            "type": "carpet"
           }
          ],
          "choropleth": [
           {
            "colorbar": {
             "outlinewidth": 0,
             "ticks": ""
            },
            "type": "choropleth"
           }
          ],
          "contour": [
           {
            "colorbar": {
             "outlinewidth": 0,
             "ticks": ""
            },
            "colorscale": [
             [
              0,
              "#0d0887"
             ],
             [
              0.1111111111111111,
              "#46039f"
             ],
             [
              0.2222222222222222,
              "#7201a8"
             ],
             [
              0.3333333333333333,
              "#9c179e"
             ],
             [
              0.4444444444444444,
              "#bd3786"
             ],
             [
              0.5555555555555556,
              "#d8576b"
             ],
             [
              0.6666666666666666,
              "#ed7953"
             ],
             [
              0.7777777777777778,
              "#fb9f3a"
             ],
             [
              0.8888888888888888,
              "#fdca26"
             ],
             [
              1,
              "#f0f921"
             ]
            ],
            "type": "contour"
           }
          ],
          "contourcarpet": [
           {
            "colorbar": {
             "outlinewidth": 0,
             "ticks": ""
            },
            "type": "contourcarpet"
           }
          ],
          "heatmap": [
           {
            "colorbar": {
             "outlinewidth": 0,
             "ticks": ""
            },
            "colorscale": [
             [
              0,
              "#0d0887"
             ],
             [
              0.1111111111111111,
              "#46039f"
             ],
             [
              0.2222222222222222,
              "#7201a8"
             ],
             [
              0.3333333333333333,
              "#9c179e"
             ],
             [
              0.4444444444444444,
              "#bd3786"
             ],
             [
              0.5555555555555556,
              "#d8576b"
             ],
             [
              0.6666666666666666,
              "#ed7953"
             ],
             [
              0.7777777777777778,
              "#fb9f3a"
             ],
             [
              0.8888888888888888,
              "#fdca26"
             ],
             [
              1,
              "#f0f921"
             ]
            ],
            "type": "heatmap"
           }
          ],
          "heatmapgl": [
           {
            "colorbar": {
             "outlinewidth": 0,
             "ticks": ""
            },
            "colorscale": [
             [
              0,
              "#0d0887"
             ],
             [
              0.1111111111111111,
              "#46039f"
             ],
             [
              0.2222222222222222,
              "#7201a8"
             ],
             [
              0.3333333333333333,
              "#9c179e"
             ],
             [
              0.4444444444444444,
              "#bd3786"
             ],
             [
              0.5555555555555556,
              "#d8576b"
             ],
             [
              0.6666666666666666,
              "#ed7953"
             ],
             [
              0.7777777777777778,
              "#fb9f3a"
             ],
             [
              0.8888888888888888,
              "#fdca26"
             ],
             [
              1,
              "#f0f921"
             ]
            ],
            "type": "heatmapgl"
           }
          ],
          "histogram": [
           {
            "marker": {
             "pattern": {
              "fillmode": "overlay",
              "size": 10,
              "solidity": 0.2
             }
            },
            "type": "histogram"
           }
          ],
          "histogram2d": [
           {
            "colorbar": {
             "outlinewidth": 0,
             "ticks": ""
            },
            "colorscale": [
             [
              0,
              "#0d0887"
             ],
             [
              0.1111111111111111,
              "#46039f"
             ],
             [
              0.2222222222222222,
              "#7201a8"
             ],
             [
              0.3333333333333333,
              "#9c179e"
             ],
             [
              0.4444444444444444,
              "#bd3786"
             ],
             [
              0.5555555555555556,
              "#d8576b"
             ],
             [
              0.6666666666666666,
              "#ed7953"
             ],
             [
              0.7777777777777778,
              "#fb9f3a"
             ],
             [
              0.8888888888888888,
              "#fdca26"
             ],
             [
              1,
              "#f0f921"
             ]
            ],
            "type": "histogram2d"
           }
          ],
          "histogram2dcontour": [
           {
            "colorbar": {
             "outlinewidth": 0,
             "ticks": ""
            },
            "colorscale": [
             [
              0,
              "#0d0887"
             ],
             [
              0.1111111111111111,
              "#46039f"
             ],
             [
              0.2222222222222222,
              "#7201a8"
             ],
             [
              0.3333333333333333,
              "#9c179e"
             ],
             [
              0.4444444444444444,
              "#bd3786"
             ],
             [
              0.5555555555555556,
              "#d8576b"
             ],
             [
              0.6666666666666666,
              "#ed7953"
             ],
             [
              0.7777777777777778,
              "#fb9f3a"
             ],
             [
              0.8888888888888888,
              "#fdca26"
             ],
             [
              1,
              "#f0f921"
             ]
            ],
            "type": "histogram2dcontour"
           }
          ],
          "mesh3d": [
           {
            "colorbar": {
             "outlinewidth": 0,
             "ticks": ""
            },
            "type": "mesh3d"
           }
          ],
          "parcoords": [
           {
            "line": {
             "colorbar": {
              "outlinewidth": 0,
              "ticks": ""
             }
            },
            "type": "parcoords"
           }
          ],
          "pie": [
           {
            "automargin": true,
            "type": "pie"
           }
          ],
          "scatter": [
           {
            "fillpattern": {
             "fillmode": "overlay",
             "size": 10,
             "solidity": 0.2
            },
            "type": "scatter"
           }
          ],
          "scatter3d": [
           {
            "line": {
             "colorbar": {
              "outlinewidth": 0,
              "ticks": ""
             }
            },
            "marker": {
             "colorbar": {
              "outlinewidth": 0,
              "ticks": ""
             }
            },
            "type": "scatter3d"
           }
          ],
          "scattercarpet": [
           {
            "marker": {
             "colorbar": {
              "outlinewidth": 0,
              "ticks": ""
             }
            },
            "type": "scattercarpet"
           }
          ],
          "scattergeo": [
           {
            "marker": {
             "colorbar": {
              "outlinewidth": 0,
              "ticks": ""
             }
            },
            "type": "scattergeo"
           }
          ],
          "scattergl": [
           {
            "marker": {
             "colorbar": {
              "outlinewidth": 0,
              "ticks": ""
             }
            },
            "type": "scattergl"
           }
          ],
          "scattermapbox": [
           {
            "marker": {
             "colorbar": {
              "outlinewidth": 0,
              "ticks": ""
             }
            },
            "type": "scattermapbox"
           }
          ],
          "scatterpolar": [
           {
            "marker": {
             "colorbar": {
              "outlinewidth": 0,
              "ticks": ""
             }
            },
            "type": "scatterpolar"
           }
          ],
          "scatterpolargl": [
           {
            "marker": {
             "colorbar": {
              "outlinewidth": 0,
              "ticks": ""
             }
            },
            "type": "scatterpolargl"
           }
          ],
          "scatterternary": [
           {
            "marker": {
             "colorbar": {
              "outlinewidth": 0,
              "ticks": ""
             }
            },
            "type": "scatterternary"
           }
          ],
          "surface": [
           {
            "colorbar": {
             "outlinewidth": 0,
             "ticks": ""
            },
            "colorscale": [
             [
              0,
              "#0d0887"
             ],
             [
              0.1111111111111111,
              "#46039f"
             ],
             [
              0.2222222222222222,
              "#7201a8"
             ],
             [
              0.3333333333333333,
              "#9c179e"
             ],
             [
              0.4444444444444444,
              "#bd3786"
             ],
             [
              0.5555555555555556,
              "#d8576b"
             ],
             [
              0.6666666666666666,
              "#ed7953"
             ],
             [
              0.7777777777777778,
              "#fb9f3a"
             ],
             [
              0.8888888888888888,
              "#fdca26"
             ],
             [
              1,
              "#f0f921"
             ]
            ],
            "type": "surface"
           }
          ],
          "table": [
           {
            "cells": {
             "fill": {
              "color": "#EBF0F8"
             },
             "line": {
              "color": "white"
             }
            },
            "header": {
             "fill": {
              "color": "#C8D4E3"
             },
             "line": {
              "color": "white"
             }
            },
            "type": "table"
           }
          ]
         },
         "layout": {
          "annotationdefaults": {
           "arrowcolor": "#2a3f5f",
           "arrowhead": 0,
           "arrowwidth": 1
          },
          "autotypenumbers": "strict",
          "coloraxis": {
           "colorbar": {
            "outlinewidth": 0,
            "ticks": ""
           }
          },
          "colorscale": {
           "diverging": [
            [
             0,
             "#8e0152"
            ],
            [
             0.1,
             "#c51b7d"
            ],
            [
             0.2,
             "#de77ae"
            ],
            [
             0.3,
             "#f1b6da"
            ],
            [
             0.4,
             "#fde0ef"
            ],
            [
             0.5,
             "#f7f7f7"
            ],
            [
             0.6,
             "#e6f5d0"
            ],
            [
             0.7,
             "#b8e186"
            ],
            [
             0.8,
             "#7fbc41"
            ],
            [
             0.9,
             "#4d9221"
            ],
            [
             1,
             "#276419"
            ]
           ],
           "sequential": [
            [
             0,
             "#0d0887"
            ],
            [
             0.1111111111111111,
             "#46039f"
            ],
            [
             0.2222222222222222,
             "#7201a8"
            ],
            [
             0.3333333333333333,
             "#9c179e"
            ],
            [
             0.4444444444444444,
             "#bd3786"
            ],
            [
             0.5555555555555556,
             "#d8576b"
            ],
            [
             0.6666666666666666,
             "#ed7953"
            ],
            [
             0.7777777777777778,
             "#fb9f3a"
            ],
            [
             0.8888888888888888,
             "#fdca26"
            ],
            [
             1,
             "#f0f921"
            ]
           ],
           "sequentialminus": [
            [
             0,
             "#0d0887"
            ],
            [
             0.1111111111111111,
             "#46039f"
            ],
            [
             0.2222222222222222,
             "#7201a8"
            ],
            [
             0.3333333333333333,
             "#9c179e"
            ],
            [
             0.4444444444444444,
             "#bd3786"
            ],
            [
             0.5555555555555556,
             "#d8576b"
            ],
            [
             0.6666666666666666,
             "#ed7953"
            ],
            [
             0.7777777777777778,
             "#fb9f3a"
            ],
            [
             0.8888888888888888,
             "#fdca26"
            ],
            [
             1,
             "#f0f921"
            ]
           ]
          },
          "colorway": [
           "#636efa",
           "#EF553B",
           "#00cc96",
           "#ab63fa",
           "#FFA15A",
           "#19d3f3",
           "#FF6692",
           "#B6E880",
           "#FF97FF",
           "#FECB52"
          ],
          "font": {
           "color": "#2a3f5f"
          },
          "geo": {
           "bgcolor": "white",
           "lakecolor": "white",
           "landcolor": "#E5ECF6",
           "showlakes": true,
           "showland": true,
           "subunitcolor": "white"
          },
          "hoverlabel": {
           "align": "left"
          },
          "hovermode": "closest",
          "mapbox": {
           "style": "light"
          },
          "paper_bgcolor": "white",
          "plot_bgcolor": "#E5ECF6",
          "polar": {
           "angularaxis": {
            "gridcolor": "white",
            "linecolor": "white",
            "ticks": ""
           },
           "bgcolor": "#E5ECF6",
           "radialaxis": {
            "gridcolor": "white",
            "linecolor": "white",
            "ticks": ""
           }
          },
          "scene": {
           "xaxis": {
            "backgroundcolor": "#E5ECF6",
            "gridcolor": "white",
            "gridwidth": 2,
            "linecolor": "white",
            "showbackground": true,
            "ticks": "",
            "zerolinecolor": "white"
           },
           "yaxis": {
            "backgroundcolor": "#E5ECF6",
            "gridcolor": "white",
            "gridwidth": 2,
            "linecolor": "white",
            "showbackground": true,
            "ticks": "",
            "zerolinecolor": "white"
           },
           "zaxis": {
            "backgroundcolor": "#E5ECF6",
            "gridcolor": "white",
            "gridwidth": 2,
            "linecolor": "white",
            "showbackground": true,
            "ticks": "",
            "zerolinecolor": "white"
           }
          },
          "shapedefaults": {
           "line": {
            "color": "#2a3f5f"
           }
          },
          "ternary": {
           "aaxis": {
            "gridcolor": "white",
            "linecolor": "white",
            "ticks": ""
           },
           "baxis": {
            "gridcolor": "white",
            "linecolor": "white",
            "ticks": ""
           },
           "bgcolor": "#E5ECF6",
           "caxis": {
            "gridcolor": "white",
            "linecolor": "white",
            "ticks": ""
           }
          },
          "title": {
           "x": 0.05
          },
          "xaxis": {
           "automargin": true,
           "gridcolor": "white",
           "linecolor": "white",
           "ticks": "",
           "title": {
            "standoff": 15
           },
           "zerolinecolor": "white",
           "zerolinewidth": 2
          },
          "yaxis": {
           "automargin": true,
           "gridcolor": "white",
           "linecolor": "white",
           "ticks": "",
           "title": {
            "standoff": 15
           },
           "zerolinecolor": "white",
           "zerolinewidth": 2
          }
         }
        },
        "title": {
         "text": "<b>Principal Components Analysis Functions</b>",
         "x": 0.5
        }
       }
      }
     },
     "metadata": {},
     "output_type": "display_data"
    }
   ],
   "source": [
    "fPCA_analysis = fPCA.fdavpca(warp_f)\n",
    "\n",
    "# Run the FPCA on a 3 components basis \n",
    "fPCA_analysis.calc_fpca(no=3)\n",
    "fPCA_analysis.plot()\n",
    "\n",
    "import plotly.graph_objects as go\n",
    "\n",
    "# Plot of the 3 functions\n",
    "fig = go.Figure()\n",
    "\n",
    "# Add traces\n",
    "fig.add_trace(go.Scatter(y=fPCA_analysis.f_pca[:,0,0], mode='lines', name=\"PC1\"))\n",
    "fig.add_trace(go.Scatter(y=fPCA_analysis.f_pca[:,0,1], mode='lines', name=\"PC2\"))\n",
    "fig.add_trace(go.Scatter(y=fPCA_analysis.f_pca[:,0,2], mode='lines', name=\"PC3\"))\n",
    "\n",
    "fig.update_layout(\n",
    "    title_text='<b>Principal Components Analysis Functions</b>', title_x=0.5,\n",
    ")\n",
    "\n",
    "fig.show()"
   ]
  },
  {
   "cell_type": "code",
   "execution_count": 36,
   "metadata": {},
   "outputs": [
    {
     "data": {
      "application/vnd.plotly.v1+json": {
       "config": {
        "plotlyServerURL": "https://plot.ly"
       },
       "data": [
        {
         "mode": "markers+text",
         "text": [
          "Clay",
          "Silt",
          "Sand"
         ],
         "type": "scatter",
         "x": [
          9.799178049375612,
          15.626010604891027,
          -25.42518865426664
         ],
         "y": [
          4.671717469786136,
          -4.008611009210627,
          -0.6631064605755109
         ]
        }
       ],
       "layout": {
        "template": {
         "data": {
          "bar": [
           {
            "error_x": {
             "color": "#2a3f5f"
            },
            "error_y": {
             "color": "#2a3f5f"
            },
            "marker": {
             "line": {
              "color": "#E5ECF6",
              "width": 0.5
             },
             "pattern": {
              "fillmode": "overlay",
              "size": 10,
              "solidity": 0.2
             }
            },
            "type": "bar"
           }
          ],
          "barpolar": [
           {
            "marker": {
             "line": {
              "color": "#E5ECF6",
              "width": 0.5
             },
             "pattern": {
              "fillmode": "overlay",
              "size": 10,
              "solidity": 0.2
             }
            },
            "type": "barpolar"
           }
          ],
          "carpet": [
           {
            "aaxis": {
             "endlinecolor": "#2a3f5f",
             "gridcolor": "white",
             "linecolor": "white",
             "minorgridcolor": "white",
             "startlinecolor": "#2a3f5f"
            },
            "baxis": {
             "endlinecolor": "#2a3f5f",
             "gridcolor": "white",
             "linecolor": "white",
             "minorgridcolor": "white",
             "startlinecolor": "#2a3f5f"
            },
            "type": "carpet"
           }
          ],
          "choropleth": [
           {
            "colorbar": {
             "outlinewidth": 0,
             "ticks": ""
            },
            "type": "choropleth"
           }
          ],
          "contour": [
           {
            "colorbar": {
             "outlinewidth": 0,
             "ticks": ""
            },
            "colorscale": [
             [
              0,
              "#0d0887"
             ],
             [
              0.1111111111111111,
              "#46039f"
             ],
             [
              0.2222222222222222,
              "#7201a8"
             ],
             [
              0.3333333333333333,
              "#9c179e"
             ],
             [
              0.4444444444444444,
              "#bd3786"
             ],
             [
              0.5555555555555556,
              "#d8576b"
             ],
             [
              0.6666666666666666,
              "#ed7953"
             ],
             [
              0.7777777777777778,
              "#fb9f3a"
             ],
             [
              0.8888888888888888,
              "#fdca26"
             ],
             [
              1,
              "#f0f921"
             ]
            ],
            "type": "contour"
           }
          ],
          "contourcarpet": [
           {
            "colorbar": {
             "outlinewidth": 0,
             "ticks": ""
            },
            "type": "contourcarpet"
           }
          ],
          "heatmap": [
           {
            "colorbar": {
             "outlinewidth": 0,
             "ticks": ""
            },
            "colorscale": [
             [
              0,
              "#0d0887"
             ],
             [
              0.1111111111111111,
              "#46039f"
             ],
             [
              0.2222222222222222,
              "#7201a8"
             ],
             [
              0.3333333333333333,
              "#9c179e"
             ],
             [
              0.4444444444444444,
              "#bd3786"
             ],
             [
              0.5555555555555556,
              "#d8576b"
             ],
             [
              0.6666666666666666,
              "#ed7953"
             ],
             [
              0.7777777777777778,
              "#fb9f3a"
             ],
             [
              0.8888888888888888,
              "#fdca26"
             ],
             [
              1,
              "#f0f921"
             ]
            ],
            "type": "heatmap"
           }
          ],
          "heatmapgl": [
           {
            "colorbar": {
             "outlinewidth": 0,
             "ticks": ""
            },
            "colorscale": [
             [
              0,
              "#0d0887"
             ],
             [
              0.1111111111111111,
              "#46039f"
             ],
             [
              0.2222222222222222,
              "#7201a8"
             ],
             [
              0.3333333333333333,
              "#9c179e"
             ],
             [
              0.4444444444444444,
              "#bd3786"
             ],
             [
              0.5555555555555556,
              "#d8576b"
             ],
             [
              0.6666666666666666,
              "#ed7953"
             ],
             [
              0.7777777777777778,
              "#fb9f3a"
             ],
             [
              0.8888888888888888,
              "#fdca26"
             ],
             [
              1,
              "#f0f921"
             ]
            ],
            "type": "heatmapgl"
           }
          ],
          "histogram": [
           {
            "marker": {
             "pattern": {
              "fillmode": "overlay",
              "size": 10,
              "solidity": 0.2
             }
            },
            "type": "histogram"
           }
          ],
          "histogram2d": [
           {
            "colorbar": {
             "outlinewidth": 0,
             "ticks": ""
            },
            "colorscale": [
             [
              0,
              "#0d0887"
             ],
             [
              0.1111111111111111,
              "#46039f"
             ],
             [
              0.2222222222222222,
              "#7201a8"
             ],
             [
              0.3333333333333333,
              "#9c179e"
             ],
             [
              0.4444444444444444,
              "#bd3786"
             ],
             [
              0.5555555555555556,
              "#d8576b"
             ],
             [
              0.6666666666666666,
              "#ed7953"
             ],
             [
              0.7777777777777778,
              "#fb9f3a"
             ],
             [
              0.8888888888888888,
              "#fdca26"
             ],
             [
              1,
              "#f0f921"
             ]
            ],
            "type": "histogram2d"
           }
          ],
          "histogram2dcontour": [
           {
            "colorbar": {
             "outlinewidth": 0,
             "ticks": ""
            },
            "colorscale": [
             [
              0,
              "#0d0887"
             ],
             [
              0.1111111111111111,
              "#46039f"
             ],
             [
              0.2222222222222222,
              "#7201a8"
             ],
             [
              0.3333333333333333,
              "#9c179e"
             ],
             [
              0.4444444444444444,
              "#bd3786"
             ],
             [
              0.5555555555555556,
              "#d8576b"
             ],
             [
              0.6666666666666666,
              "#ed7953"
             ],
             [
              0.7777777777777778,
              "#fb9f3a"
             ],
             [
              0.8888888888888888,
              "#fdca26"
             ],
             [
              1,
              "#f0f921"
             ]
            ],
            "type": "histogram2dcontour"
           }
          ],
          "mesh3d": [
           {
            "colorbar": {
             "outlinewidth": 0,
             "ticks": ""
            },
            "type": "mesh3d"
           }
          ],
          "parcoords": [
           {
            "line": {
             "colorbar": {
              "outlinewidth": 0,
              "ticks": ""
             }
            },
            "type": "parcoords"
           }
          ],
          "pie": [
           {
            "automargin": true,
            "type": "pie"
           }
          ],
          "scatter": [
           {
            "fillpattern": {
             "fillmode": "overlay",
             "size": 10,
             "solidity": 0.2
            },
            "type": "scatter"
           }
          ],
          "scatter3d": [
           {
            "line": {
             "colorbar": {
              "outlinewidth": 0,
              "ticks": ""
             }
            },
            "marker": {
             "colorbar": {
              "outlinewidth": 0,
              "ticks": ""
             }
            },
            "type": "scatter3d"
           }
          ],
          "scattercarpet": [
           {
            "marker": {
             "colorbar": {
              "outlinewidth": 0,
              "ticks": ""
             }
            },
            "type": "scattercarpet"
           }
          ],
          "scattergeo": [
           {
            "marker": {
             "colorbar": {
              "outlinewidth": 0,
              "ticks": ""
             }
            },
            "type": "scattergeo"
           }
          ],
          "scattergl": [
           {
            "marker": {
             "colorbar": {
              "outlinewidth": 0,
              "ticks": ""
             }
            },
            "type": "scattergl"
           }
          ],
          "scattermapbox": [
           {
            "marker": {
             "colorbar": {
              "outlinewidth": 0,
              "ticks": ""
             }
            },
            "type": "scattermapbox"
           }
          ],
          "scatterpolar": [
           {
            "marker": {
             "colorbar": {
              "outlinewidth": 0,
              "ticks": ""
             }
            },
            "type": "scatterpolar"
           }
          ],
          "scatterpolargl": [
           {
            "marker": {
             "colorbar": {
              "outlinewidth": 0,
              "ticks": ""
             }
            },
            "type": "scatterpolargl"
           }
          ],
          "scatterternary": [
           {
            "marker": {
             "colorbar": {
              "outlinewidth": 0,
              "ticks": ""
             }
            },
            "type": "scatterternary"
           }
          ],
          "surface": [
           {
            "colorbar": {
             "outlinewidth": 0,
             "ticks": ""
            },
            "colorscale": [
             [
              0,
              "#0d0887"
             ],
             [
              0.1111111111111111,
              "#46039f"
             ],
             [
              0.2222222222222222,
              "#7201a8"
             ],
             [
              0.3333333333333333,
              "#9c179e"
             ],
             [
              0.4444444444444444,
              "#bd3786"
             ],
             [
              0.5555555555555556,
              "#d8576b"
             ],
             [
              0.6666666666666666,
              "#ed7953"
             ],
             [
              0.7777777777777778,
              "#fb9f3a"
             ],
             [
              0.8888888888888888,
              "#fdca26"
             ],
             [
              1,
              "#f0f921"
             ]
            ],
            "type": "surface"
           }
          ],
          "table": [
           {
            "cells": {
             "fill": {
              "color": "#EBF0F8"
             },
             "line": {
              "color": "white"
             }
            },
            "header": {
             "fill": {
              "color": "#C8D4E3"
             },
             "line": {
              "color": "white"
             }
            },
            "type": "table"
           }
          ]
         },
         "layout": {
          "annotationdefaults": {
           "arrowcolor": "#2a3f5f",
           "arrowhead": 0,
           "arrowwidth": 1
          },
          "autotypenumbers": "strict",
          "coloraxis": {
           "colorbar": {
            "outlinewidth": 0,
            "ticks": ""
           }
          },
          "colorscale": {
           "diverging": [
            [
             0,
             "#8e0152"
            ],
            [
             0.1,
             "#c51b7d"
            ],
            [
             0.2,
             "#de77ae"
            ],
            [
             0.3,
             "#f1b6da"
            ],
            [
             0.4,
             "#fde0ef"
            ],
            [
             0.5,
             "#f7f7f7"
            ],
            [
             0.6,
             "#e6f5d0"
            ],
            [
             0.7,
             "#b8e186"
            ],
            [
             0.8,
             "#7fbc41"
            ],
            [
             0.9,
             "#4d9221"
            ],
            [
             1,
             "#276419"
            ]
           ],
           "sequential": [
            [
             0,
             "#0d0887"
            ],
            [
             0.1111111111111111,
             "#46039f"
            ],
            [
             0.2222222222222222,
             "#7201a8"
            ],
            [
             0.3333333333333333,
             "#9c179e"
            ],
            [
             0.4444444444444444,
             "#bd3786"
            ],
            [
             0.5555555555555556,
             "#d8576b"
            ],
            [
             0.6666666666666666,
             "#ed7953"
            ],
            [
             0.7777777777777778,
             "#fb9f3a"
            ],
            [
             0.8888888888888888,
             "#fdca26"
            ],
            [
             1,
             "#f0f921"
            ]
           ],
           "sequentialminus": [
            [
             0,
             "#0d0887"
            ],
            [
             0.1111111111111111,
             "#46039f"
            ],
            [
             0.2222222222222222,
             "#7201a8"
            ],
            [
             0.3333333333333333,
             "#9c179e"
            ],
            [
             0.4444444444444444,
             "#bd3786"
            ],
            [
             0.5555555555555556,
             "#d8576b"
            ],
            [
             0.6666666666666666,
             "#ed7953"
            ],
            [
             0.7777777777777778,
             "#fb9f3a"
            ],
            [
             0.8888888888888888,
             "#fdca26"
            ],
            [
             1,
             "#f0f921"
            ]
           ]
          },
          "colorway": [
           "#636efa",
           "#EF553B",
           "#00cc96",
           "#ab63fa",
           "#FFA15A",
           "#19d3f3",
           "#FF6692",
           "#B6E880",
           "#FF97FF",
           "#FECB52"
          ],
          "font": {
           "color": "#2a3f5f"
          },
          "geo": {
           "bgcolor": "white",
           "lakecolor": "white",
           "landcolor": "#E5ECF6",
           "showlakes": true,
           "showland": true,
           "subunitcolor": "white"
          },
          "hoverlabel": {
           "align": "left"
          },
          "hovermode": "closest",
          "mapbox": {
           "style": "light"
          },
          "paper_bgcolor": "white",
          "plot_bgcolor": "#E5ECF6",
          "polar": {
           "angularaxis": {
            "gridcolor": "white",
            "linecolor": "white",
            "ticks": ""
           },
           "bgcolor": "#E5ECF6",
           "radialaxis": {
            "gridcolor": "white",
            "linecolor": "white",
            "ticks": ""
           }
          },
          "scene": {
           "xaxis": {
            "backgroundcolor": "#E5ECF6",
            "gridcolor": "white",
            "gridwidth": 2,
            "linecolor": "white",
            "showbackground": true,
            "ticks": "",
            "zerolinecolor": "white"
           },
           "yaxis": {
            "backgroundcolor": "#E5ECF6",
            "gridcolor": "white",
            "gridwidth": 2,
            "linecolor": "white",
            "showbackground": true,
            "ticks": "",
            "zerolinecolor": "white"
           },
           "zaxis": {
            "backgroundcolor": "#E5ECF6",
            "gridcolor": "white",
            "gridwidth": 2,
            "linecolor": "white",
            "showbackground": true,
            "ticks": "",
            "zerolinecolor": "white"
           }
          },
          "shapedefaults": {
           "line": {
            "color": "#2a3f5f"
           }
          },
          "ternary": {
           "aaxis": {
            "gridcolor": "white",
            "linecolor": "white",
            "ticks": ""
           },
           "baxis": {
            "gridcolor": "white",
            "linecolor": "white",
            "ticks": ""
           },
           "bgcolor": "#E5ECF6",
           "caxis": {
            "gridcolor": "white",
            "linecolor": "white",
            "ticks": ""
           }
          },
          "title": {
           "x": 0.05
          },
          "xaxis": {
           "automargin": true,
           "gridcolor": "white",
           "linecolor": "white",
           "ticks": "",
           "title": {
            "standoff": 15
           },
           "zerolinecolor": "white",
           "zerolinewidth": 2
          },
          "yaxis": {
           "automargin": true,
           "gridcolor": "white",
           "linecolor": "white",
           "ticks": "",
           "title": {
            "standoff": 15
           },
           "zerolinecolor": "white",
           "zerolinewidth": 2
          }
         }
        }
       }
      }
     },
     "metadata": {},
     "output_type": "display_data"
    }
   ],
   "source": [
    "# Coefficients of PCs against regions\n",
    "fPCA_coef = fPCA_analysis.coef\n",
    "\n",
    "# Plot of PCs against regions\n",
    "fig = go.Figure(data=go.Scatter(x=fPCA_coef[:,0], y=fPCA_coef[:,1], mode='markers+text', text=[\"Clay\",\"Silt\",\"Sand\"]))\n",
    "fig.show()"
   ]
  }
 ],
 "metadata": {
  "kernelspec": {
   "display_name": "ai_soil_kernel",
   "language": "python",
   "name": "ai_soil_kernel"
  },
  "language_info": {
   "codemirror_mode": {
    "name": "ipython",
    "version": 3
   },
   "file_extension": ".py",
   "mimetype": "text/x-python",
   "name": "python",
   "nbconvert_exporter": "python",
   "pygments_lexer": "ipython3",
   "version": "3.10.4"
  },
  "orig_nbformat": 4,
  "vscode": {
   "interpreter": {
    "hash": "916dbcbb3f70747c44a77c7bcd40155683ae19c65e1c03b4aa3499c5328201f1"
   }
  }
 },
 "nbformat": 4,
 "nbformat_minor": 2
}
